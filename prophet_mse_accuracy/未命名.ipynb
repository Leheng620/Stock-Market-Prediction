{
 "cells": [
  {
   "cell_type": "code",
   "execution_count": 4,
   "id": "9ae14c2b",
   "metadata": {},
   "outputs": [],
   "source": [
    "import pandas as pd\n",
    "import numpy as np\n",
    "df = pd.read_csv('accuracy.csv')"
   ]
  },
  {
   "cell_type": "code",
   "execution_count": 11,
   "id": "51c0be8b",
   "metadata": {},
   "outputs": [
    {
     "data": {
      "text/plain": [
       "0.43209876543209874"
      ]
     },
     "execution_count": 11,
     "metadata": {},
     "output_type": "execute_result"
    }
   ],
   "source": [
    "np.sum(df['Accuracy'] > 0.5)/(len(df['Accuracy']))"
   ]
  },
  {
   "cell_type": "code",
   "execution_count": 12,
   "id": "dab88edb",
   "metadata": {},
   "outputs": [
    {
     "data": {
      "text/plain": [
       "0.48964218455743874"
      ]
     },
     "execution_count": 12,
     "metadata": {},
     "output_type": "execute_result"
    }
   ],
   "source": [
    "np.sum(df['Accuracy'])/len(df['Accuracy'])"
   ]
  },
  {
   "cell_type": "code",
   "execution_count": null,
   "id": "4861a857",
   "metadata": {},
   "outputs": [],
   "source": [
    "np.sum(df['Accuracy'])"
   ]
  }
 ],
 "metadata": {
  "kernelspec": {
   "display_name": "Python 3 (ipykernel)",
   "language": "python",
   "name": "python3"
  },
  "language_info": {
   "codemirror_mode": {
    "name": "ipython",
    "version": 3
   },
   "file_extension": ".py",
   "mimetype": "text/x-python",
   "name": "python",
   "nbconvert_exporter": "python",
   "pygments_lexer": "ipython3",
   "version": "3.10.4"
  }
 },
 "nbformat": 4,
 "nbformat_minor": 5
}
