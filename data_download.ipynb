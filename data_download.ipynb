{
 "nbformat": 4,
 "nbformat_minor": 0,
 "metadata": {
  "colab": {
   "provenance": [],
   "mount_file_id": "1SkwBD9ABzgAFPVfRv8H-wWTUySPTZKYb",
   "authorship_tag": "ABX9TyMtMiOjJ0q6y4cDCMlkCYo/"
  },
  "kernelspec": {
   "name": "python3",
   "display_name": "Python 3"
  },
  "language_info": {
   "name": "python"
  }
 },
 "cells": [
  {
   "cell_type": "code",
   "source": [
    "!pip install yfinance"
   ],
   "metadata": {
    "colab": {
     "base_uri": "https://localhost:8080/"
    },
    "id": "lE7t2rZbO4Me",
    "executionInfo": {
     "status": "ok",
     "timestamp": 1678262393186,
     "user_tz": 300,
     "elapsed": 8430,
     "user": {
      "displayName": "Huijie Pan",
      "userId": "07589011589699516425"
     }
    },
    "outputId": "2922ea4d-f4b5-45ba-f0c4-a439baad8943"
   },
   "execution_count": 2,
   "outputs": [
    {
     "output_type": "stream",
     "name": "stdout",
     "text": [
      "Looking in indexes: https://pypi.org/simple, https://us-python.pkg.dev/colab-wheels/public/simple/\n",
      "Collecting yfinance\n",
      "  Downloading yfinance-0.2.12-py2.py3-none-any.whl (59 kB)\n",
      "\u001B[2K     \u001B[90m━━━━━━━━━━━━━━━━━━━━━━━━━━━━━━━━━━━━━━━━\u001B[0m \u001B[32m59.2/59.2 KB\u001B[0m \u001B[31m4.0 MB/s\u001B[0m eta \u001B[36m0:00:00\u001B[0m\n",
      "\u001B[?25hCollecting frozendict>=2.3.4\n",
      "  Downloading frozendict-2.3.5-cp38-cp38-manylinux_2_17_x86_64.manylinux2014_x86_64.whl (111 kB)\n",
      "\u001B[2K     \u001B[90m━━━━━━━━━━━━━━━━━━━━━━━━━━━━━━━━━━━━━━━\u001B[0m \u001B[32m111.2/111.2 KB\u001B[0m \u001B[31m8.8 MB/s\u001B[0m eta \u001B[36m0:00:00\u001B[0m\n",
      "\u001B[?25hRequirement already satisfied: lxml>=4.9.1 in /usr/local/lib/python3.8/dist-packages (from yfinance) (4.9.2)\n",
      "Requirement already satisfied: pytz>=2022.5 in /usr/local/lib/python3.8/dist-packages (from yfinance) (2022.7.1)\n",
      "Collecting cryptography>=3.3.2\n",
      "  Downloading cryptography-39.0.2-cp36-abi3-manylinux_2_28_x86_64.whl (4.2 MB)\n",
      "\u001B[2K     \u001B[90m━━━━━━━━━━━━━━━━━━━━━━━━━━━━━━━━━━━━━━━━\u001B[0m \u001B[32m4.2/4.2 MB\u001B[0m \u001B[31m52.1 MB/s\u001B[0m eta \u001B[36m0:00:00\u001B[0m\n",
      "\u001B[?25hRequirement already satisfied: numpy>=1.16.5 in /usr/local/lib/python3.8/dist-packages (from yfinance) (1.22.4)\n",
      "Collecting requests>=2.26\n",
      "  Downloading requests-2.28.2-py3-none-any.whl (62 kB)\n",
      "\u001B[2K     \u001B[90m━━━━━━━━━━━━━━━━━━━━━━━━━━━━━━━━━━━━━━━━\u001B[0m \u001B[32m62.8/62.8 KB\u001B[0m \u001B[31m7.1 MB/s\u001B[0m eta \u001B[36m0:00:00\u001B[0m\n",
      "\u001B[?25hRequirement already satisfied: pandas>=1.3.0 in /usr/local/lib/python3.8/dist-packages (from yfinance) (1.3.5)\n",
      "Collecting beautifulsoup4>=4.11.1\n",
      "  Downloading beautifulsoup4-4.11.2-py3-none-any.whl (129 kB)\n",
      "\u001B[2K     \u001B[90m━━━━━━━━━━━━━━━━━━━━━━━━━━━━━━━━━━━━━━\u001B[0m \u001B[32m129.4/129.4 KB\u001B[0m \u001B[31m14.1 MB/s\u001B[0m eta \u001B[36m0:00:00\u001B[0m\n",
      "\u001B[?25hCollecting html5lib>=1.1\n",
      "  Downloading html5lib-1.1-py2.py3-none-any.whl (112 kB)\n",
      "\u001B[2K     \u001B[90m━━━━━━━━━━━━━━━━━━━━━━━━━━━━━━━━━━━━━━\u001B[0m \u001B[32m112.2/112.2 KB\u001B[0m \u001B[31m13.7 MB/s\u001B[0m eta \u001B[36m0:00:00\u001B[0m\n",
      "\u001B[?25hRequirement already satisfied: appdirs>=1.4.4 in /usr/local/lib/python3.8/dist-packages (from yfinance) (1.4.4)\n",
      "Requirement already satisfied: multitasking>=0.0.7 in /usr/local/lib/python3.8/dist-packages (from yfinance) (0.0.11)\n",
      "Collecting soupsieve>1.2\n",
      "  Downloading soupsieve-2.4-py3-none-any.whl (37 kB)\n",
      "Requirement already satisfied: cffi>=1.12 in /usr/local/lib/python3.8/dist-packages (from cryptography>=3.3.2->yfinance) (1.15.1)\n",
      "Requirement already satisfied: webencodings in /usr/local/lib/python3.8/dist-packages (from html5lib>=1.1->yfinance) (0.5.1)\n",
      "Requirement already satisfied: six>=1.9 in /usr/local/lib/python3.8/dist-packages (from html5lib>=1.1->yfinance) (1.15.0)\n",
      "Requirement already satisfied: python-dateutil>=2.7.3 in /usr/local/lib/python3.8/dist-packages (from pandas>=1.3.0->yfinance) (2.8.2)\n",
      "Requirement already satisfied: urllib3<1.27,>=1.21.1 in /usr/local/lib/python3.8/dist-packages (from requests>=2.26->yfinance) (1.26.14)\n",
      "Requirement already satisfied: certifi>=2017.4.17 in /usr/local/lib/python3.8/dist-packages (from requests>=2.26->yfinance) (2022.12.7)\n",
      "Requirement already satisfied: idna<4,>=2.5 in /usr/local/lib/python3.8/dist-packages (from requests>=2.26->yfinance) (2.10)\n",
      "Requirement already satisfied: charset-normalizer<4,>=2 in /usr/local/lib/python3.8/dist-packages (from requests>=2.26->yfinance) (3.0.1)\n",
      "Requirement already satisfied: pycparser in /usr/local/lib/python3.8/dist-packages (from cffi>=1.12->cryptography>=3.3.2->yfinance) (2.21)\n",
      "Installing collected packages: soupsieve, requests, html5lib, frozendict, cryptography, beautifulsoup4, yfinance\n",
      "  Attempting uninstall: requests\n",
      "    Found existing installation: requests 2.25.1\n",
      "    Uninstalling requests-2.25.1:\n",
      "      Successfully uninstalled requests-2.25.1\n",
      "  Attempting uninstall: html5lib\n",
      "    Found existing installation: html5lib 1.0.1\n",
      "    Uninstalling html5lib-1.0.1:\n",
      "      Successfully uninstalled html5lib-1.0.1\n",
      "  Attempting uninstall: beautifulsoup4\n",
      "    Found existing installation: beautifulsoup4 4.6.3\n",
      "    Uninstalling beautifulsoup4-4.6.3:\n",
      "      Successfully uninstalled beautifulsoup4-4.6.3\n",
      "Successfully installed beautifulsoup4-4.11.2 cryptography-39.0.2 frozendict-2.3.5 html5lib-1.1 requests-2.28.2 soupsieve-2.4 yfinance-0.2.12\n"
     ]
    }
   ]
  },
  {
   "cell_type": "code",
   "execution_count": 3,
   "metadata": {
    "id": "suoy7-rh0Q_Y",
    "colab": {
     "base_uri": "https://localhost:8080/"
    },
    "executionInfo": {
     "status": "ok",
     "timestamp": 1678262484395,
     "user_tz": 300,
     "elapsed": 5189,
     "user": {
      "displayName": "Huijie Pan",
      "userId": "07589011589699516425"
     }
    },
    "outputId": "5882cd57-2b81-4086-99ab-f7c338de4fd0"
   },
   "outputs": [
    {
     "name": "stdout",
     "output_type": "stream",
     "text": [
      "[*********************100%***********************]  1 of 1 completed\n"
     ]
    }
   ],
   "source": [
    "import yfinance as yf\n",
    "tickerStrings = \"SNOW\".split()\n",
    "for ticker in tickerStrings:\n",
    "    data = yf.download(ticker, group_by=\"Ticker\", start=\"2021-03-06\", end=\"2023-03-06\")\n",
    "    data['ticker'] = ticker  # add this column because the dataframe doesn't contain a column with the ticker\n",
    "    # data.to_csv(f'/content/drive/MyDrive/Colab Notebooks/ticker/ticker_{ticker}.csv')  # ticker_AAPL.csv for example\n",
    "    data.to_csv(f'./ticker/ticker_{ticker}.csv')\n",
    "# tickerStrings = [\"SPY\", \"AAPL\", \"TSLA\", \"AMZN\", \"META\"]\n",
    "# for ticker in tickerStrings:\n",
    "#     data = yf.download(ticker, group_by=\"Ticker\", start=\"2021-03-06\", end=\"2023-03-06\")\n",
    "#     data['ticker'] = ticker  # add this column because the dataframe doesn't contain a column with the ticker\n",
    "#     data.to_csv(f'/content/drive/MyDrive/Colab Notebooks/ticker/ticker_{ticker}.csv')  # ticker_AAPL.csv for example"
   ]
  },
  {
   "cell_type": "code",
   "execution_count": 1,
   "outputs": [
    {
     "data": {
      "text/plain": "lazy-loading dict with keys = ['currency', 'dayHigh', 'dayLow', 'exchange', 'fiftyDayAverage', 'lastPrice', 'lastVolume', 'marketCap', 'open', 'previousClose', 'quoteType', 'regularMarketPreviousClose', 'shares', 'tenDayAverageVolume', 'threeMonthAverageVolume', 'timezone', 'twoHundredDayAverage', 'yearChange', 'yearHigh', 'yearLow']"
     },
     "execution_count": 1,
     "metadata": {},
     "output_type": "execute_result"
    }
   ],
   "source": [
    "import yfinance as yf\n",
    "tick = yf.Ticker('GOOG')\n",
    "tick.fast_info"
   ],
   "metadata": {
    "collapsed": false,
    "pycharm": {
     "name": "#%%\n"
    }
   }
  },
  {
   "cell_type": "code",
   "execution_count": 52,
   "outputs": [
    {
     "data": {
      "text/plain": "[{'uuid': 'afda5211-0424-310f-8b7b-e3df9cbf8b44',\n  'title': \"Today's top stories: Google's AI race, Netflix earnings, SpaceX cancels launch\",\n  'publisher': 'Yahoo Finance Video',\n  'link': 'https://finance.yahoo.com/video/todays-top-stories-googles-ai-210828417.html',\n  'providerPublishTime': 1681765708,\n  'type': 'VIDEO',\n  'thumbnail': {'resolutions': [{'url': 'https://s.yimg.com/uu/api/res/1.2/6xl1gPPjT6XjwFIp6xw4SA--~B/aD0xNzkzO3c9MzE4NjthcHBpZD15dGFjaHlvbg--/https://s.yimg.com/os/creatr-uploaded-images/2023-04/fa9fa260-dd63-11ed-9bb6-7aea8a7baefc',\n     'width': 3186,\n     'height': 1793,\n     'tag': 'original'},\n    {'url': 'https://s.yimg.com/uu/api/res/1.2/8psesXNvsiX50bcXzh9vNQ--~B/Zmk9ZmlsbDtoPTE0MDtweW9mZj0wO3c9MTQwO2FwcGlkPXl0YWNoeW9u/https://s.yimg.com/os/creatr-uploaded-images/2023-04/fa9fa260-dd63-11ed-9bb6-7aea8a7baefc',\n     'width': 140,\n     'height': 140,\n     'tag': '140x140'}]},\n  'relatedTickers': ['NFLX', 'GOOG', 'GOOGL']},\n {'uuid': '7dd3b8e1-71ec-35aa-afe5-72c9d36201e8',\n  'title': \"Dow Jones Gains As Schwab Boosts Banks; Elon Musk Is 'Looking Into' This Tesla Problem\",\n  'publisher': \"Investor's Business Daily\",\n  'link': 'https://finance.yahoo.com/m/7dd3b8e1-71ec-35aa-afe5-72c9d36201e8/dow-jones-gains-as-schwab.html',\n  'providerPublishTime': 1681763054,\n  'type': 'STORY',\n  'thumbnail': {'resolutions': [{'url': 'https://s.yimg.com/uu/api/res/1.2/mv76mnreVFfOd_7.WdaWHg--~B/aD01MzM7dz05NDU7YXBwaWQ9eXRhY2h5b24-/https://media.zenfs.com/en/ibd.com/0640c5c3eb2d6ac0212ead379ba74b4f',\n     'width': 945,\n     'height': 533,\n     'tag': 'original'},\n    {'url': 'https://s.yimg.com/uu/api/res/1.2/fVz5LZxR_6agKySFr2DOCA--~B/Zmk9ZmlsbDtoPTE0MDtweW9mZj0wO3c9MTQwO2FwcGlkPXl0YWNoeW9u/https://media.zenfs.com/en/ibd.com/0640c5c3eb2d6ac0212ead379ba74b4f',\n     'width': 140,\n     'height': 140,\n     'tag': '140x140'}]},\n  'relatedTickers': ['TSLA', 'GOOGL', 'RBLX', '^DJI', 'MSFT']},\n {'uuid': '6708d1ef-b4a8-3b96-9284-94b3f5ee60b1',\n  'title': 'US STOCKS-Wall St ends higher; investors await earnings, Fed cues',\n  'publisher': 'Reuters',\n  'link': 'https://finance.yahoo.com/news/us-stocks-wall-st-ends-202039904.html',\n  'providerPublishTime': 1681762839,\n  'type': 'STORY',\n  'relatedTickers': ['COMP', '^GSPC', '^DJI', 'GOOGL', 'STT']},\n {'uuid': '7dc6ce0e-9b99-3cc3-b722-216ec43d028d',\n  'title': \"Alphabet Investors Shouldn't Sleep on This Sleeping Giant\",\n  'publisher': 'Motley Fool',\n  'link': 'https://finance.yahoo.com/m/7dc6ce0e-9b99-3cc3-b722-216ec43d028d/alphabet-investors-shouldn%27t.html',\n  'providerPublishTime': 1681762681,\n  'type': 'STORY',\n  'thumbnail': {'resolutions': [{'url': 'https://s.yimg.com/uu/api/res/1.2/t1GmuiaD.MDcpmBJRz6tAA--~B/aD03MjA7dz0xMjgwO2FwcGlkPXl0YWNoeW9u/https://media.zenfs.com/en/motleyfool.com/44084caeefc0dae73bfb504ea9964fe2',\n     'width': 1280,\n     'height': 720,\n     'tag': 'original'},\n    {'url': 'https://s.yimg.com/uu/api/res/1.2/.kCdPTBxZlaid3yaX.G9DA--~B/Zmk9ZmlsbDtoPTE0MDtweW9mZj0wO3c9MTQwO2FwcGlkPXl0YWNoeW9u/https://media.zenfs.com/en/motleyfool.com/44084caeefc0dae73bfb504ea9964fe2',\n     'width': 140,\n     'height': 140,\n     'tag': '140x140'}]},\n  'relatedTickers': ['GOOGL']},\n {'uuid': 'c92be554-96c2-332d-9902-3a293e72861e',\n  'title': \"Google 'remains the leader in AI' despite lack of direct-to-consumer offerings: Analyst\",\n  'publisher': 'Yahoo Finance Video',\n  'link': 'https://finance.yahoo.com/video/google-remains-leader-ai-despite-201345816.html',\n  'providerPublishTime': 1681762425,\n  'type': 'VIDEO',\n  'thumbnail': {'resolutions': [{'url': 'https://s.yimg.com/uu/api/res/1.2/tS9gJqSGlU2WYg9uHPATug--~B/aD0xNzYxO3c9MzEzMzthcHBpZD15dGFjaHlvbg--/https://s.yimg.com/os/creatr-uploaded-images/2023-04/59d0a890-dd5c-11ed-a5eb-dd2c044b78ba',\n     'width': 3133,\n     'height': 1761,\n     'tag': 'original'},\n    {'url': 'https://s.yimg.com/uu/api/res/1.2/inIUyoXhogHl.b6L57unGQ--~B/Zmk9ZmlsbDtoPTE0MDtweW9mZj0wO3c9MTQwO2FwcGlkPXl0YWNoeW9u/https://s.yimg.com/os/creatr-uploaded-images/2023-04/59d0a890-dd5c-11ed-a5eb-dd2c044b78ba',\n     'width': 140,\n     'height': 140,\n     'tag': '140x140'}]},\n  'relatedTickers': ['GOOG', 'GOOGL', 'MSFT', 'AAPL']},\n {'uuid': 'b78f4119-4123-3035-ae4c-39584a66a41f',\n  'title': 'Google Stock Falls On Report Samsung Could Switch To Microsoft Search Engine',\n  'publisher': \"Investor's Business Daily\",\n  'link': 'https://finance.yahoo.com/m/b78f4119-4123-3035-ae4c-39584a66a41f/google-stock-falls-on-report.html',\n  'providerPublishTime': 1681762412,\n  'type': 'STORY',\n  'thumbnail': {'resolutions': [{'url': 'https://s.yimg.com/uu/api/res/1.2/jBUyNlSYgBLkhhANQCUn_A--~B/aD01MTE7dz0xMDAwO2FwcGlkPXl0YWNoeW9u/https://media.zenfs.com/en/ibd.com/2ec600f8fb18bd03c5575234f57abae5',\n     'width': 1000,\n     'height': 511,\n     'tag': 'original'},\n    {'url': 'https://s.yimg.com/uu/api/res/1.2/Uv.ikVCNTIrDIGR4mmR8xQ--~B/Zmk9ZmlsbDtoPTE0MDtweW9mZj0wO3c9MTQwO2FwcGlkPXl0YWNoeW9u/https://media.zenfs.com/en/ibd.com/2ec600f8fb18bd03c5575234f57abae5',\n     'width': 140,\n     'height': 140,\n     'tag': '140x140'}]},\n  'relatedTickers': ['GOOGL', 'MSFT', 'AAPL']},\n {'uuid': '47874b95-b560-3803-9c6e-57d84d223a03',\n  'title': 'US STOCKS-Wall St edges up; investors await earnings, Fed cues',\n  'publisher': 'Reuters',\n  'link': 'https://finance.yahoo.com/news/us-stocks-wall-st-edges-200027726.html',\n  'providerPublishTime': 1681761627,\n  'type': 'STORY',\n  'relatedTickers': ['COMP', '^GSPC', '^DJI', 'GOOGL', 'STT']},\n {'uuid': '834d7d61-eaaf-30b1-947c-b37fbe203559',\n  'title': \"AI concerns: 'There are tremendous ethical questions' for decision-making processes, professor says\",\n  'publisher': 'Yahoo Finance Video',\n  'link': 'https://finance.yahoo.com/video/ai-concerns-tremendous-ethical-questions-193404899.html',\n  'providerPublishTime': 1681760044,\n  'type': 'VIDEO',\n  'thumbnail': {'resolutions': [{'url': 'https://s.yimg.com/uu/api/res/1.2/UmjGEWtRxI5LWWXwvuiHdg--~B/aD0xNzM2O3c9MzA4MzthcHBpZD15dGFjaHlvbg--/https://s.yimg.com/os/creatr-uploaded-images/2023-04/ce8015a0-dd56-11ed-92bf-6c087a86ee07',\n     'width': 3083,\n     'height': 1736,\n     'tag': 'original'},\n    {'url': 'https://s.yimg.com/uu/api/res/1.2/WV.ZzetG9VzrDmQrA0C.Tg--~B/Zmk9ZmlsbDtoPTE0MDtweW9mZj0wO3c9MTQwO2FwcGlkPXl0YWNoeW9u/https://s.yimg.com/os/creatr-uploaded-images/2023-04/ce8015a0-dd56-11ed-92bf-6c087a86ee07',\n     'width': 140,\n     'height': 140,\n     'tag': '140x140'}]},\n  'relatedTickers': ['GOOG', 'GOOGL']}]"
     },
     "execution_count": 52,
     "metadata": {},
     "output_type": "execute_result"
    }
   ],
   "source": [
    "tick.get_news()"
   ],
   "metadata": {
    "collapsed": false,
    "pycharm": {
     "name": "#%%\n"
    }
   }
  },
  {
   "cell_type": "code",
   "execution_count": 64,
   "outputs": [
    {
     "name": "stdout",
     "output_type": "stream",
     "text": [
      "[*********************100%***********************]  1 of 1 completed\n"
     ]
    },
    {
     "data": {
      "text/plain": "           Date       Open       High        Low  Adj Close     Volume  \\\n0    2010-01-04  15.615220  15.678981  15.547723  15.610239   78541293   \n1    2010-01-05  15.620949  15.637387  15.480475  15.541497  120638494   \n2    2010-01-06  15.588072  15.588072  15.102393  15.149715  159744526   \n3    2010-01-07  15.178109  15.193053  14.760922  14.797037  257533695   \n4    2010-01-08  14.744733  15.024933  14.672753  14.994298  189680313   \n...         ...        ...        ...        ...        ...        ...   \n1926 2017-08-28  45.799999  45.962250  45.593498  45.690498   21730000   \n1927 2017-08-29  45.255001  46.166500  45.250000  46.064499   23712000   \n1928 2017-08-30  46.002499  46.540951  45.982498  46.478500   26024000   \n1929 2017-08-31  46.588001  47.098999  46.588001  46.966499   31652000   \n1930 2017-09-01  47.056499  47.124001  46.757500  46.867001   18948000   \n\n          macd    boll_ub    boll_lb     rsi_30      cci_30       dx_30  \\\n0     0.000000        NaN        NaN        NaN         NaN         NaN   \n1    -0.001542  15.673084  15.478653   0.000000  -66.666667  100.000000   \n2    -0.014114  15.930674  14.936960   0.000000 -100.000000  100.000000   \n3    -0.032220  16.029650  14.519594   0.000000 -116.655265  100.000000   \n4    -0.033530  15.918854  14.518261  20.412438  -85.711071  100.000000   \n...        ...        ...        ...        ...         ...         ...   \n1926 -0.287069  46.822109  45.259591  46.890588  -77.932884   16.098429   \n1927 -0.258124  46.762197  45.271802  48.715526  -68.662587   22.636992   \n1928 -0.199478  46.754531  45.275368  50.657102  -16.354392   12.427188   \n1929 -0.112329  46.905749  45.202550  52.834477   53.603256    0.737804   \n1930 -0.050706  46.992540  45.162660  52.347258   71.720205    1.291362   \n\n      close_30_sma  close_60_sma  \n0        15.610239     15.610239  \n1        15.575868     15.575868  \n2        15.433817     15.433817  \n3        15.274622     15.274622  \n4        15.218557     15.218557  \n...            ...           ...  \n1926     46.631100     46.928300  \n1927     46.557583     46.876308  \n1928     46.488716     46.837142  \n1929     46.440683     46.802467  \n1930     46.381383     46.764075  \n\n[1931 rows x 14 columns]",
      "text/html": "<div>\n<style scoped>\n    .dataframe tbody tr th:only-of-type {\n        vertical-align: middle;\n    }\n\n    .dataframe tbody tr th {\n        vertical-align: top;\n    }\n\n    .dataframe thead th {\n        text-align: right;\n    }\n</style>\n<table border=\"1\" class=\"dataframe\">\n  <thead>\n    <tr style=\"text-align: right;\">\n      <th></th>\n      <th>Date</th>\n      <th>Open</th>\n      <th>High</th>\n      <th>Low</th>\n      <th>Adj Close</th>\n      <th>Volume</th>\n      <th>macd</th>\n      <th>boll_ub</th>\n      <th>boll_lb</th>\n      <th>rsi_30</th>\n      <th>cci_30</th>\n      <th>dx_30</th>\n      <th>close_30_sma</th>\n      <th>close_60_sma</th>\n    </tr>\n  </thead>\n  <tbody>\n    <tr>\n      <th>0</th>\n      <td>2010-01-04</td>\n      <td>15.615220</td>\n      <td>15.678981</td>\n      <td>15.547723</td>\n      <td>15.610239</td>\n      <td>78541293</td>\n      <td>0.000000</td>\n      <td>NaN</td>\n      <td>NaN</td>\n      <td>NaN</td>\n      <td>NaN</td>\n      <td>NaN</td>\n      <td>15.610239</td>\n      <td>15.610239</td>\n    </tr>\n    <tr>\n      <th>1</th>\n      <td>2010-01-05</td>\n      <td>15.620949</td>\n      <td>15.637387</td>\n      <td>15.480475</td>\n      <td>15.541497</td>\n      <td>120638494</td>\n      <td>-0.001542</td>\n      <td>15.673084</td>\n      <td>15.478653</td>\n      <td>0.000000</td>\n      <td>-66.666667</td>\n      <td>100.000000</td>\n      <td>15.575868</td>\n      <td>15.575868</td>\n    </tr>\n    <tr>\n      <th>2</th>\n      <td>2010-01-06</td>\n      <td>15.588072</td>\n      <td>15.588072</td>\n      <td>15.102393</td>\n      <td>15.149715</td>\n      <td>159744526</td>\n      <td>-0.014114</td>\n      <td>15.930674</td>\n      <td>14.936960</td>\n      <td>0.000000</td>\n      <td>-100.000000</td>\n      <td>100.000000</td>\n      <td>15.433817</td>\n      <td>15.433817</td>\n    </tr>\n    <tr>\n      <th>3</th>\n      <td>2010-01-07</td>\n      <td>15.178109</td>\n      <td>15.193053</td>\n      <td>14.760922</td>\n      <td>14.797037</td>\n      <td>257533695</td>\n      <td>-0.032220</td>\n      <td>16.029650</td>\n      <td>14.519594</td>\n      <td>0.000000</td>\n      <td>-116.655265</td>\n      <td>100.000000</td>\n      <td>15.274622</td>\n      <td>15.274622</td>\n    </tr>\n    <tr>\n      <th>4</th>\n      <td>2010-01-08</td>\n      <td>14.744733</td>\n      <td>15.024933</td>\n      <td>14.672753</td>\n      <td>14.994298</td>\n      <td>189680313</td>\n      <td>-0.033530</td>\n      <td>15.918854</td>\n      <td>14.518261</td>\n      <td>20.412438</td>\n      <td>-85.711071</td>\n      <td>100.000000</td>\n      <td>15.218557</td>\n      <td>15.218557</td>\n    </tr>\n    <tr>\n      <th>...</th>\n      <td>...</td>\n      <td>...</td>\n      <td>...</td>\n      <td>...</td>\n      <td>...</td>\n      <td>...</td>\n      <td>...</td>\n      <td>...</td>\n      <td>...</td>\n      <td>...</td>\n      <td>...</td>\n      <td>...</td>\n      <td>...</td>\n      <td>...</td>\n    </tr>\n    <tr>\n      <th>1926</th>\n      <td>2017-08-28</td>\n      <td>45.799999</td>\n      <td>45.962250</td>\n      <td>45.593498</td>\n      <td>45.690498</td>\n      <td>21730000</td>\n      <td>-0.287069</td>\n      <td>46.822109</td>\n      <td>45.259591</td>\n      <td>46.890588</td>\n      <td>-77.932884</td>\n      <td>16.098429</td>\n      <td>46.631100</td>\n      <td>46.928300</td>\n    </tr>\n    <tr>\n      <th>1927</th>\n      <td>2017-08-29</td>\n      <td>45.255001</td>\n      <td>46.166500</td>\n      <td>45.250000</td>\n      <td>46.064499</td>\n      <td>23712000</td>\n      <td>-0.258124</td>\n      <td>46.762197</td>\n      <td>45.271802</td>\n      <td>48.715526</td>\n      <td>-68.662587</td>\n      <td>22.636992</td>\n      <td>46.557583</td>\n      <td>46.876308</td>\n    </tr>\n    <tr>\n      <th>1928</th>\n      <td>2017-08-30</td>\n      <td>46.002499</td>\n      <td>46.540951</td>\n      <td>45.982498</td>\n      <td>46.478500</td>\n      <td>26024000</td>\n      <td>-0.199478</td>\n      <td>46.754531</td>\n      <td>45.275368</td>\n      <td>50.657102</td>\n      <td>-16.354392</td>\n      <td>12.427188</td>\n      <td>46.488716</td>\n      <td>46.837142</td>\n    </tr>\n    <tr>\n      <th>1929</th>\n      <td>2017-08-31</td>\n      <td>46.588001</td>\n      <td>47.098999</td>\n      <td>46.588001</td>\n      <td>46.966499</td>\n      <td>31652000</td>\n      <td>-0.112329</td>\n      <td>46.905749</td>\n      <td>45.202550</td>\n      <td>52.834477</td>\n      <td>53.603256</td>\n      <td>0.737804</td>\n      <td>46.440683</td>\n      <td>46.802467</td>\n    </tr>\n    <tr>\n      <th>1930</th>\n      <td>2017-09-01</td>\n      <td>47.056499</td>\n      <td>47.124001</td>\n      <td>46.757500</td>\n      <td>46.867001</td>\n      <td>18948000</td>\n      <td>-0.050706</td>\n      <td>46.992540</td>\n      <td>45.162660</td>\n      <td>52.347258</td>\n      <td>71.720205</td>\n      <td>1.291362</td>\n      <td>46.381383</td>\n      <td>46.764075</td>\n    </tr>\n  </tbody>\n</table>\n<p>1931 rows × 14 columns</p>\n</div>"
     },
     "execution_count": 64,
     "metadata": {},
     "output_type": "execute_result"
    }
   ],
   "source": [
    "from stockstats import wrap\n",
    "data = yf.download(\"GOOG\", group_by=\"Ticker\", start=\"2010-01-01\", end=\"2017-09-02\")\n",
    "data.drop(['Close'],axis=1, inplace=True)\n",
    "data = data.rename(columns={'Adj Close': 'Close'})\n",
    "data = wrap(data)\n",
    "cols = [\n",
    "    \"open\",\n",
    "    \"high\",\n",
    "    \"low\",\n",
    "    \"close\",\n",
    "    \"volume\",\n",
    "    \"macd\",\n",
    "    \"boll_ub\",\n",
    "    \"boll_lb\",\n",
    "    \"rsi_30\",\n",
    "    \"cci_30\",\n",
    "    \"dx_30\",\n",
    "    \"close_30_sma\",\n",
    "    \"close_60_sma\",\n",
    "]\n",
    "data = data[cols]\n",
    "data = data.reset_index()\n",
    "data.rename(columns={'open':'Open', 'high': 'High', 'low': 'Low', 'close':'Adj Close', 'volume': 'Volume'}, inplace=True)\n",
    "data"
   ],
   "metadata": {
    "collapsed": false,
    "pycharm": {
     "name": "#%%\n"
    }
   }
  },
  {
   "cell_type": "code",
   "execution_count": 65,
   "outputs": [
    {
     "name": "stdout",
     "output_type": "stream",
     "text": [
      "1006\n",
      "6\n",
      "2010-01-12 00:00:00\n",
      "1931\n"
     ]
    },
    {
     "data": {
      "text/plain": "                 open       high        low  adj close     volume      macd  \\\ndate                                                                          \n2010-01-12  14.885456  14.898158  14.645107  14.706875  194859654 -0.046776   \n2010-01-13  14.358431  14.654571  14.293923  14.622441  260838034 -0.058166   \n2010-01-14  14.542989  14.799528  14.515841  14.691184  170239717 -0.061758   \n2010-01-15  14.778108  14.783587  14.397036  14.445853  218194794 -0.076045   \n2010-01-19  14.475741  14.705381  14.353450  14.635642  173315202 -0.075190   \n...               ...        ...        ...        ...        ...       ...   \n2017-08-28  45.799999  45.962250  45.593498  45.690498   21730000 -0.287069   \n2017-08-29  45.255001  46.166500  45.250000  46.064499   23712000 -0.258124   \n2017-08-30  46.002499  46.540951  45.982498  46.478500   26024000 -0.199478   \n2017-08-31  46.588001  47.098999  46.588001  46.966499   31652000 -0.112329   \n2017-09-01  47.056499  47.124001  46.757500  46.867001   18948000 -0.050706   \n\n              boll_ub    boll_lb     rsi_30      cci_30      dx_30  \\\ndate                                                                 \n2010-01-12  15.808275  14.412095  15.493867  -86.707574  93.541728   \n2010-01-13  15.781786  14.316648  14.434139 -112.678997  95.483660   \n2010-01-14  15.735072  14.283799  19.094788  -74.485759  72.585904   \n2010-01-15  15.724500  14.181655  15.897859  -92.292955  75.137354   \n2010-01-19  15.680675  14.167764  25.834948  -81.117030  76.012873   \n...               ...        ...        ...         ...        ...   \n2017-08-28  46.822109  45.259591  46.890588  -77.932884  16.098429   \n2017-08-29  46.762197  45.271802  48.715526  -68.662587  22.636992   \n2017-08-30  46.754531  45.275368  50.657102  -16.354392  12.427188   \n2017-08-31  46.905749  45.202550  52.834477   53.603256   0.737804   \n2017-09-01  46.992540  45.162660  52.347258   71.720205   1.291362   \n\n            close_30_sma  close_60_sma  \ndate                                    \n2010-01-12     15.110185     15.110185  \n2010-01-13     15.049217     15.049217  \n2010-01-14     15.009436     15.009436  \n2010-01-15     14.953077     14.953077  \n2010-01-19     14.924220     14.924220  \n...                  ...           ...  \n2017-08-28     46.631100     46.928300  \n2017-08-29     46.557583     46.876308  \n2017-08-30     46.488716     46.837142  \n2017-08-31     46.440683     46.802467  \n2017-09-01     46.381383     46.764075  \n\n[1925 rows x 13 columns]",
      "text/html": "<div>\n<style scoped>\n    .dataframe tbody tr th:only-of-type {\n        vertical-align: middle;\n    }\n\n    .dataframe tbody tr th {\n        vertical-align: top;\n    }\n\n    .dataframe thead th {\n        text-align: right;\n    }\n</style>\n<table border=\"1\" class=\"dataframe\">\n  <thead>\n    <tr style=\"text-align: right;\">\n      <th></th>\n      <th>open</th>\n      <th>high</th>\n      <th>low</th>\n      <th>adj close</th>\n      <th>volume</th>\n      <th>macd</th>\n      <th>boll_ub</th>\n      <th>boll_lb</th>\n      <th>rsi_30</th>\n      <th>cci_30</th>\n      <th>dx_30</th>\n      <th>close_30_sma</th>\n      <th>close_60_sma</th>\n    </tr>\n    <tr>\n      <th>date</th>\n      <th></th>\n      <th></th>\n      <th></th>\n      <th></th>\n      <th></th>\n      <th></th>\n      <th></th>\n      <th></th>\n      <th></th>\n      <th></th>\n      <th></th>\n      <th></th>\n      <th></th>\n    </tr>\n  </thead>\n  <tbody>\n    <tr>\n      <th>2010-01-12</th>\n      <td>14.885456</td>\n      <td>14.898158</td>\n      <td>14.645107</td>\n      <td>14.706875</td>\n      <td>194859654</td>\n      <td>-0.046776</td>\n      <td>15.808275</td>\n      <td>14.412095</td>\n      <td>15.493867</td>\n      <td>-86.707574</td>\n      <td>93.541728</td>\n      <td>15.110185</td>\n      <td>15.110185</td>\n    </tr>\n    <tr>\n      <th>2010-01-13</th>\n      <td>14.358431</td>\n      <td>14.654571</td>\n      <td>14.293923</td>\n      <td>14.622441</td>\n      <td>260838034</td>\n      <td>-0.058166</td>\n      <td>15.781786</td>\n      <td>14.316648</td>\n      <td>14.434139</td>\n      <td>-112.678997</td>\n      <td>95.483660</td>\n      <td>15.049217</td>\n      <td>15.049217</td>\n    </tr>\n    <tr>\n      <th>2010-01-14</th>\n      <td>14.542989</td>\n      <td>14.799528</td>\n      <td>14.515841</td>\n      <td>14.691184</td>\n      <td>170239717</td>\n      <td>-0.061758</td>\n      <td>15.735072</td>\n      <td>14.283799</td>\n      <td>19.094788</td>\n      <td>-74.485759</td>\n      <td>72.585904</td>\n      <td>15.009436</td>\n      <td>15.009436</td>\n    </tr>\n    <tr>\n      <th>2010-01-15</th>\n      <td>14.778108</td>\n      <td>14.783587</td>\n      <td>14.397036</td>\n      <td>14.445853</td>\n      <td>218194794</td>\n      <td>-0.076045</td>\n      <td>15.724500</td>\n      <td>14.181655</td>\n      <td>15.897859</td>\n      <td>-92.292955</td>\n      <td>75.137354</td>\n      <td>14.953077</td>\n      <td>14.953077</td>\n    </tr>\n    <tr>\n      <th>2010-01-19</th>\n      <td>14.475741</td>\n      <td>14.705381</td>\n      <td>14.353450</td>\n      <td>14.635642</td>\n      <td>173315202</td>\n      <td>-0.075190</td>\n      <td>15.680675</td>\n      <td>14.167764</td>\n      <td>25.834948</td>\n      <td>-81.117030</td>\n      <td>76.012873</td>\n      <td>14.924220</td>\n      <td>14.924220</td>\n    </tr>\n    <tr>\n      <th>...</th>\n      <td>...</td>\n      <td>...</td>\n      <td>...</td>\n      <td>...</td>\n      <td>...</td>\n      <td>...</td>\n      <td>...</td>\n      <td>...</td>\n      <td>...</td>\n      <td>...</td>\n      <td>...</td>\n      <td>...</td>\n      <td>...</td>\n    </tr>\n    <tr>\n      <th>2017-08-28</th>\n      <td>45.799999</td>\n      <td>45.962250</td>\n      <td>45.593498</td>\n      <td>45.690498</td>\n      <td>21730000</td>\n      <td>-0.287069</td>\n      <td>46.822109</td>\n      <td>45.259591</td>\n      <td>46.890588</td>\n      <td>-77.932884</td>\n      <td>16.098429</td>\n      <td>46.631100</td>\n      <td>46.928300</td>\n    </tr>\n    <tr>\n      <th>2017-08-29</th>\n      <td>45.255001</td>\n      <td>46.166500</td>\n      <td>45.250000</td>\n      <td>46.064499</td>\n      <td>23712000</td>\n      <td>-0.258124</td>\n      <td>46.762197</td>\n      <td>45.271802</td>\n      <td>48.715526</td>\n      <td>-68.662587</td>\n      <td>22.636992</td>\n      <td>46.557583</td>\n      <td>46.876308</td>\n    </tr>\n    <tr>\n      <th>2017-08-30</th>\n      <td>46.002499</td>\n      <td>46.540951</td>\n      <td>45.982498</td>\n      <td>46.478500</td>\n      <td>26024000</td>\n      <td>-0.199478</td>\n      <td>46.754531</td>\n      <td>45.275368</td>\n      <td>50.657102</td>\n      <td>-16.354392</td>\n      <td>12.427188</td>\n      <td>46.488716</td>\n      <td>46.837142</td>\n    </tr>\n    <tr>\n      <th>2017-08-31</th>\n      <td>46.588001</td>\n      <td>47.098999</td>\n      <td>46.588001</td>\n      <td>46.966499</td>\n      <td>31652000</td>\n      <td>-0.112329</td>\n      <td>46.905749</td>\n      <td>45.202550</td>\n      <td>52.834477</td>\n      <td>53.603256</td>\n      <td>0.737804</td>\n      <td>46.440683</td>\n      <td>46.802467</td>\n    </tr>\n    <tr>\n      <th>2017-09-01</th>\n      <td>47.056499</td>\n      <td>47.124001</td>\n      <td>46.757500</td>\n      <td>46.867001</td>\n      <td>18948000</td>\n      <td>-0.050706</td>\n      <td>46.992540</td>\n      <td>45.162660</td>\n      <td>52.347258</td>\n      <td>71.720205</td>\n      <td>1.291362</td>\n      <td>46.381383</td>\n      <td>46.764075</td>\n    </tr>\n  </tbody>\n</table>\n<p>1925 rows × 13 columns</p>\n</div>"
     },
     "execution_count": 65,
     "metadata": {},
     "output_type": "execute_result"
    }
   ],
   "source": [
    "start_index = data.loc[data['Date'] == '2014-01-02'].index[0]\n",
    "print(start_index)\n",
    "start_index = start_index - 1000\n",
    "assert(start_index >= 0)\n",
    "print(start_index)\n",
    "print(data.iloc[start_index]['Date'])\n",
    "total_data_size = len(data)\n",
    "print(len(data))\n",
    "data[start_index:]\n"
   ],
   "metadata": {
    "collapsed": false,
    "pycharm": {
     "name": "#%%\n"
    }
   }
  },
  {
   "cell_type": "code",
   "execution_count": 66,
   "outputs": [
    {
     "name": "stdout",
     "output_type": "stream",
     "text": [
      "[*********************100%***********************]  1 of 1 completed\n",
      "[*********************100%***********************]  1 of 1 completed\n",
      "[*********************100%***********************]  1 of 1 completed\n",
      "[*********************100%***********************]  1 of 1 completed\n",
      "[*********************100%***********************]  1 of 1 completed\n",
      "[*********************100%***********************]  1 of 1 completed\n",
      "[*********************100%***********************]  1 of 1 completed\n",
      "[*********************100%***********************]  1 of 1 completed\n",
      "[*********************100%***********************]  1 of 1 completed\n",
      "[*********************100%***********************]  1 of 1 completed\n",
      "[*********************100%***********************]  1 of 1 completed\n",
      "\n",
      "1 Failed download:\n",
      "- BBL: No timezone found, symbol may be delisted\n",
      "[*********************100%***********************]  1 of 1 completed\n",
      "[*********************100%***********************]  1 of 1 completed\n",
      "[*********************100%***********************]  1 of 1 completed\n",
      "[*********************100%***********************]  1 of 1 completed\n",
      "[*********************100%***********************]  1 of 1 completed\n",
      "[*********************100%***********************]  1 of 1 completed\n",
      "[*********************100%***********************]  1 of 1 completed\n",
      "[*********************100%***********************]  1 of 1 completed\n",
      "[*********************100%***********************]  1 of 1 completed\n",
      "\n",
      "1 Failed download:\n",
      "- CELG: No timezone found, symbol may be delisted\n",
      "[*********************100%***********************]  1 of 1 completed\n",
      "\n",
      "1 Failed download:\n",
      "- CHL: No timezone found, symbol may be delisted\n",
      "[*********************100%***********************]  1 of 1 completed\n",
      "[*********************100%***********************]  1 of 1 completed\n",
      "[*********************100%***********************]  1 of 1 completed\n",
      "[*********************100%***********************]  1 of 1 completed\n",
      "[*********************100%***********************]  1 of 1 completed\n",
      "[*********************100%***********************]  1 of 1 completed\n",
      "[*********************100%***********************]  1 of 1 completed\n",
      "[*********************100%***********************]  1 of 1 completed\n",
      "[*********************100%***********************]  1 of 1 completed\n",
      "[*********************100%***********************]  1 of 1 completed\n",
      "[*********************100%***********************]  1 of 1 completed\n",
      "[*********************100%***********************]  1 of 1 completed\n",
      "[*********************100%***********************]  1 of 1 completed\n",
      "[*********************100%***********************]  1 of 1 completed\n",
      "[*********************100%***********************]  1 of 1 completed\n",
      "[*********************100%***********************]  1 of 1 completed\n",
      "[*********************100%***********************]  1 of 1 completed\n",
      "[*********************100%***********************]  1 of 1 completed\n",
      "\n",
      "1 Failed download:\n",
      "- HRG: No data found for this date range, symbol may be delisted\n",
      "[*********************100%***********************]  1 of 1 completed\n",
      "[*********************100%***********************]  1 of 1 completed\n",
      "[*********************100%***********************]  1 of 1 completed\n",
      "[*********************100%***********************]  1 of 1 completed\n",
      "[*********************100%***********************]  1 of 1 completed\n",
      "[*********************100%***********************]  1 of 1 completed\n",
      "[*********************100%***********************]  1 of 1 completed\n",
      "[*********************100%***********************]  1 of 1 completed\n",
      "[*********************100%***********************]  1 of 1 completed\n",
      "[*********************100%***********************]  1 of 1 completed\n",
      "[*********************100%***********************]  1 of 1 completed\n",
      "[*********************100%***********************]  1 of 1 completed\n",
      "[*********************100%***********************]  1 of 1 completed\n",
      "[*********************100%***********************]  1 of 1 completed\n",
      "[*********************100%***********************]  1 of 1 completed\n",
      "[*********************100%***********************]  1 of 1 completed\n",
      "[*********************100%***********************]  1 of 1 completed\n",
      "[*********************100%***********************]  1 of 1 completed\n",
      "[*********************100%***********************]  1 of 1 completed\n",
      "[*********************100%***********************]  1 of 1 completed\n",
      "\n",
      "1 Failed download:\n",
      "- PCLN: No data found for this date range, symbol may be delisted\n",
      "[*********************100%***********************]  1 of 1 completed\n",
      "[*********************100%***********************]  1 of 1 completed\n",
      "[*********************100%***********************]  1 of 1 completed\n",
      "[*********************100%***********************]  1 of 1 completed\n",
      "\n",
      "1 Failed download:\n",
      "- PICO: No timezone found, symbol may be delisted\n",
      "[*********************100%***********************]  1 of 1 completed\n",
      "[*********************100%***********************]  1 of 1 completed\n",
      "[*********************100%***********************]  1 of 1 completed\n",
      "\n",
      "1 Failed download:\n",
      "- PTR: No timezone found, symbol may be delisted\n",
      "[*********************100%***********************]  1 of 1 completed\n",
      "\n",
      "1 Failed download:\n",
      "- RDS-B: No timezone found, symbol may be delisted\n",
      "[*********************100%***********************]  1 of 1 completed\n",
      "[*********************100%***********************]  1 of 1 completed\n",
      "[*********************100%***********************]  1 of 1 completed\n",
      "\n",
      "1 Failed download:\n",
      "- SNP: No timezone found, symbol may be delisted\n",
      "[*********************100%***********************]  1 of 1 completed\n",
      "[*********************100%***********************]  1 of 1 completed\n",
      "[*********************100%***********************]  1 of 1 completed\n",
      "[*********************100%***********************]  1 of 1 completed\n",
      "[*********************100%***********************]  1 of 1 completed\n",
      "[*********************100%***********************]  1 of 1 completed\n",
      "[*********************100%***********************]  1 of 1 completed\n",
      "\n",
      "1 Failed download:\n",
      "- TOT: No timezone found, symbol may be delisted\n",
      "[*********************100%***********************]  1 of 1 completed\n",
      "[*********************100%***********************]  1 of 1 completed\n",
      "[*********************100%***********************]  1 of 1 completed\n",
      "\n",
      "1 Failed download:\n",
      "- UN: No timezone found, symbol may be delisted\n",
      "[*********************100%***********************]  1 of 1 completed\n",
      "[*********************100%***********************]  1 of 1 completed\n",
      "[*********************100%***********************]  1 of 1 completed\n",
      "\n",
      "1 Failed download:\n",
      "- UTX: No timezone found, symbol may be delisted\n",
      "[*********************100%***********************]  1 of 1 completed\n",
      "[*********************100%***********************]  1 of 1 completed\n",
      "[*********************100%***********************]  1 of 1 completed\n",
      "[*********************100%***********************]  1 of 1 completed\n",
      "[*********************100%***********************]  1 of 1 completed\n"
     ]
    }
   ],
   "source": [
    "import os\n",
    "from stockstats import wrap\n",
    "stocks = os.listdir('price')\n",
    "name_change_table = {\n",
    "    \"FB\": \"META\",\n",
    "}\n",
    "for stock in stocks:\n",
    "    stock = stock.strip('.csv')\n",
    "    if stock in name_change_table:\n",
    "        stock = name_change_table[stock]\n",
    "    data = yf.download(stock, group_by=\"Ticker\", start=\"2010-01-01\", end=\"2017-09-02\")\n",
    "    if len(data) < total_data_size:\n",
    "        continue\n",
    "    data.drop(['Close'],axis=1, inplace=True)\n",
    "    data = data.rename(columns={'Adj Close': 'Close'})\n",
    "    data = wrap(data)\n",
    "    cols = [\n",
    "        \"open\",\n",
    "        \"high\",\n",
    "        \"low\",\n",
    "        \"close\",\n",
    "        \"volume\",\n",
    "        \"macd\",\n",
    "        \"boll_ub\",\n",
    "        \"boll_lb\",\n",
    "        \"rsi_30\",\n",
    "        \"cci_30\",\n",
    "        \"dx_30\",\n",
    "        \"close_30_sma\",\n",
    "        \"close_60_sma\",\n",
    "    ]\n",
    "    data = data[cols]\n",
    "    data = data.reset_index()\n",
    "    data.rename(columns={'open':'Open', 'high': 'High', 'low': 'Low', 'close':'Adj Close', 'volume': 'Volume'}, inplace=True)\n",
    "    data = data[start_index:]\n",
    "    # data.to_csv(f'/content/drive/MyDrive/Colab Notebooks/ticker/ticker_{ticker}.csv')  # ticker_AAPL.csv for example\n",
    "    data.to_csv(f'./price_7years/{stock}.csv')"
   ],
   "metadata": {
    "collapsed": false,
    "pycharm": {
     "name": "#%%\n"
    }
   }
  },
  {
   "cell_type": "code",
   "execution_count": 10,
   "outputs": [
    {
     "data": {
      "text/plain": "            Date        Open        High         Low       Close   Adj Close  \\\n0     2012-09-04   95.108574   96.448570   94.928574   96.424286   87.121140   \n1     2012-09-05   96.510002   96.621429   95.657143   95.747147   86.509338   \n2     2012-09-06   96.167145   96.898575   95.828575   96.610001   87.288956   \n3     2012-09-07   96.864288   97.497147   96.538574   97.205711   87.827171   \n4     2012-09-10   97.207146   97.612854   94.585716   94.677139   85.542564   \n...          ...         ...         ...         ...         ...         ...   \n1253  2017-08-28  160.139999  162.000000  159.929993  161.470001  161.470001   \n1254  2017-08-29  160.100006  163.119995  160.000000  162.910004  162.910004   \n1255  2017-08-30  163.800003  163.889999  162.610001  163.350006  163.350006   \n1256  2017-08-31  163.639999  164.520004  163.479996  164.000000  164.000000   \n1257  2017-09-01  164.800003  164.940002  163.630005  164.050003  164.050003   \n\n         Volume  \n0      91973000  \n1      84093800  \n2      97799100  \n3      82416600  \n4     121999500  \n...         ...  \n1253   25966000  \n1254   29516900  \n1255   27269600  \n1256   26785100  \n1257   16552800  \n\n[1258 rows x 7 columns]",
      "text/html": "<div>\n<style scoped>\n    .dataframe tbody tr th:only-of-type {\n        vertical-align: middle;\n    }\n\n    .dataframe tbody tr th {\n        vertical-align: top;\n    }\n\n    .dataframe thead th {\n        text-align: right;\n    }\n</style>\n<table border=\"1\" class=\"dataframe\">\n  <thead>\n    <tr style=\"text-align: right;\">\n      <th></th>\n      <th>Date</th>\n      <th>Open</th>\n      <th>High</th>\n      <th>Low</th>\n      <th>Close</th>\n      <th>Adj Close</th>\n      <th>Volume</th>\n    </tr>\n  </thead>\n  <tbody>\n    <tr>\n      <th>0</th>\n      <td>2012-09-04</td>\n      <td>95.108574</td>\n      <td>96.448570</td>\n      <td>94.928574</td>\n      <td>96.424286</td>\n      <td>87.121140</td>\n      <td>91973000</td>\n    </tr>\n    <tr>\n      <th>1</th>\n      <td>2012-09-05</td>\n      <td>96.510002</td>\n      <td>96.621429</td>\n      <td>95.657143</td>\n      <td>95.747147</td>\n      <td>86.509338</td>\n      <td>84093800</td>\n    </tr>\n    <tr>\n      <th>2</th>\n      <td>2012-09-06</td>\n      <td>96.167145</td>\n      <td>96.898575</td>\n      <td>95.828575</td>\n      <td>96.610001</td>\n      <td>87.288956</td>\n      <td>97799100</td>\n    </tr>\n    <tr>\n      <th>3</th>\n      <td>2012-09-07</td>\n      <td>96.864288</td>\n      <td>97.497147</td>\n      <td>96.538574</td>\n      <td>97.205711</td>\n      <td>87.827171</td>\n      <td>82416600</td>\n    </tr>\n    <tr>\n      <th>4</th>\n      <td>2012-09-10</td>\n      <td>97.207146</td>\n      <td>97.612854</td>\n      <td>94.585716</td>\n      <td>94.677139</td>\n      <td>85.542564</td>\n      <td>121999500</td>\n    </tr>\n    <tr>\n      <th>...</th>\n      <td>...</td>\n      <td>...</td>\n      <td>...</td>\n      <td>...</td>\n      <td>...</td>\n      <td>...</td>\n      <td>...</td>\n    </tr>\n    <tr>\n      <th>1253</th>\n      <td>2017-08-28</td>\n      <td>160.139999</td>\n      <td>162.000000</td>\n      <td>159.929993</td>\n      <td>161.470001</td>\n      <td>161.470001</td>\n      <td>25966000</td>\n    </tr>\n    <tr>\n      <th>1254</th>\n      <td>2017-08-29</td>\n      <td>160.100006</td>\n      <td>163.119995</td>\n      <td>160.000000</td>\n      <td>162.910004</td>\n      <td>162.910004</td>\n      <td>29516900</td>\n    </tr>\n    <tr>\n      <th>1255</th>\n      <td>2017-08-30</td>\n      <td>163.800003</td>\n      <td>163.889999</td>\n      <td>162.610001</td>\n      <td>163.350006</td>\n      <td>163.350006</td>\n      <td>27269600</td>\n    </tr>\n    <tr>\n      <th>1256</th>\n      <td>2017-08-31</td>\n      <td>163.639999</td>\n      <td>164.520004</td>\n      <td>163.479996</td>\n      <td>164.000000</td>\n      <td>164.000000</td>\n      <td>26785100</td>\n    </tr>\n    <tr>\n      <th>1257</th>\n      <td>2017-09-01</td>\n      <td>164.800003</td>\n      <td>164.940002</td>\n      <td>163.630005</td>\n      <td>164.050003</td>\n      <td>164.050003</td>\n      <td>16552800</td>\n    </tr>\n  </tbody>\n</table>\n<p>1258 rows × 7 columns</p>\n</div>"
     },
     "execution_count": 10,
     "metadata": {},
     "output_type": "execute_result"
    }
   ],
   "source": [
    "import pandas as pd\n",
    "from stockstats import wrap\n",
    "\n",
    "df = pd.read_csv('./price/AAPL.csv')\n",
    "df"
   ],
   "metadata": {
    "collapsed": false,
    "pycharm": {
     "name": "#%%\n"
    }
   }
  },
  {
   "cell_type": "code",
   "execution_count": 13,
   "outputs": [
    {
     "data": {
      "text/plain": "                  open        high         low       close   adj close  \\\ndate                                                                     \n2012-09-04   95.108574   96.448570   94.928574   96.424286   87.121140   \n2012-09-05   96.510002   96.621429   95.657143   95.747147   86.509338   \n2012-09-06   96.167145   96.898575   95.828575   96.610001   87.288956   \n2012-09-07   96.864288   97.497147   96.538574   97.205711   87.827171   \n2012-09-10   97.207146   97.612854   94.585716   94.677139   85.542564   \n...                ...         ...         ...         ...         ...   \n2017-08-28  160.139999  162.000000  159.929993  161.470001  161.470001   \n2017-08-29  160.100006  163.119995  160.000000  162.910004  162.910004   \n2017-08-30  163.800003  163.889999  162.610001  163.350006  163.350006   \n2017-08-31  163.639999  164.520004  163.479996  164.000000  164.000000   \n2017-09-01  164.800003  164.940002  163.630005  164.050003  164.050003   \n\n               volume  \ndate                   \n2012-09-04   91973000  \n2012-09-05   84093800  \n2012-09-06   97799100  \n2012-09-07   82416600  \n2012-09-10  121999500  \n...               ...  \n2017-08-28   25966000  \n2017-08-29   29516900  \n2017-08-30   27269600  \n2017-08-31   26785100  \n2017-09-01   16552800  \n\n[1258 rows x 6 columns]",
      "text/html": "<div>\n<style scoped>\n    .dataframe tbody tr th:only-of-type {\n        vertical-align: middle;\n    }\n\n    .dataframe tbody tr th {\n        vertical-align: top;\n    }\n\n    .dataframe thead th {\n        text-align: right;\n    }\n</style>\n<table border=\"1\" class=\"dataframe\">\n  <thead>\n    <tr style=\"text-align: right;\">\n      <th></th>\n      <th>open</th>\n      <th>high</th>\n      <th>low</th>\n      <th>close</th>\n      <th>adj close</th>\n      <th>volume</th>\n    </tr>\n    <tr>\n      <th>date</th>\n      <th></th>\n      <th></th>\n      <th></th>\n      <th></th>\n      <th></th>\n      <th></th>\n    </tr>\n  </thead>\n  <tbody>\n    <tr>\n      <th>2012-09-04</th>\n      <td>95.108574</td>\n      <td>96.448570</td>\n      <td>94.928574</td>\n      <td>96.424286</td>\n      <td>87.121140</td>\n      <td>91973000</td>\n    </tr>\n    <tr>\n      <th>2012-09-05</th>\n      <td>96.510002</td>\n      <td>96.621429</td>\n      <td>95.657143</td>\n      <td>95.747147</td>\n      <td>86.509338</td>\n      <td>84093800</td>\n    </tr>\n    <tr>\n      <th>2012-09-06</th>\n      <td>96.167145</td>\n      <td>96.898575</td>\n      <td>95.828575</td>\n      <td>96.610001</td>\n      <td>87.288956</td>\n      <td>97799100</td>\n    </tr>\n    <tr>\n      <th>2012-09-07</th>\n      <td>96.864288</td>\n      <td>97.497147</td>\n      <td>96.538574</td>\n      <td>97.205711</td>\n      <td>87.827171</td>\n      <td>82416600</td>\n    </tr>\n    <tr>\n      <th>2012-09-10</th>\n      <td>97.207146</td>\n      <td>97.612854</td>\n      <td>94.585716</td>\n      <td>94.677139</td>\n      <td>85.542564</td>\n      <td>121999500</td>\n    </tr>\n    <tr>\n      <th>...</th>\n      <td>...</td>\n      <td>...</td>\n      <td>...</td>\n      <td>...</td>\n      <td>...</td>\n      <td>...</td>\n    </tr>\n    <tr>\n      <th>2017-08-28</th>\n      <td>160.139999</td>\n      <td>162.000000</td>\n      <td>159.929993</td>\n      <td>161.470001</td>\n      <td>161.470001</td>\n      <td>25966000</td>\n    </tr>\n    <tr>\n      <th>2017-08-29</th>\n      <td>160.100006</td>\n      <td>163.119995</td>\n      <td>160.000000</td>\n      <td>162.910004</td>\n      <td>162.910004</td>\n      <td>29516900</td>\n    </tr>\n    <tr>\n      <th>2017-08-30</th>\n      <td>163.800003</td>\n      <td>163.889999</td>\n      <td>162.610001</td>\n      <td>163.350006</td>\n      <td>163.350006</td>\n      <td>27269600</td>\n    </tr>\n    <tr>\n      <th>2017-08-31</th>\n      <td>163.639999</td>\n      <td>164.520004</td>\n      <td>163.479996</td>\n      <td>164.000000</td>\n      <td>164.000000</td>\n      <td>26785100</td>\n    </tr>\n    <tr>\n      <th>2017-09-01</th>\n      <td>164.800003</td>\n      <td>164.940002</td>\n      <td>163.630005</td>\n      <td>164.050003</td>\n      <td>164.050003</td>\n      <td>16552800</td>\n    </tr>\n  </tbody>\n</table>\n<p>1258 rows × 6 columns</p>\n</div>"
     },
     "execution_count": 13,
     "metadata": {},
     "output_type": "execute_result"
    }
   ],
   "source": [
    "stock_df = wrap(df)\n",
    "stock_df"
   ],
   "metadata": {
    "collapsed": false,
    "pycharm": {
     "name": "#%%\n"
    }
   }
  },
  {
   "cell_type": "code",
   "execution_count": 19,
   "outputs": [
    {
     "data": {
      "text/plain": "                  open        high         low       close   adj close  \\\ndate                                                                     \n2012-09-04   95.108574   96.448570   94.928574   96.424286   87.121140   \n2012-09-05   96.510002   96.621429   95.657143   95.747147   86.509338   \n2012-09-06   96.167145   96.898575   95.828575   96.610001   87.288956   \n2012-09-07   96.864288   97.497147   96.538574   97.205711   87.827171   \n2012-09-10   97.207146   97.612854   94.585716   94.677139   85.542564   \n...                ...         ...         ...         ...         ...   \n2017-08-28  160.139999  162.000000  159.929993  161.470001  161.470001   \n2017-08-29  160.100006  163.119995  160.000000  162.910004  162.910004   \n2017-08-30  163.800003  163.889999  162.610001  163.350006  163.350006   \n2017-08-31  163.639999  164.520004  163.479996  164.000000  164.000000   \n2017-09-01  164.800003  164.940002  163.630005  164.050003  164.050003   \n\n               volume      macd     macds     macdh  high_delta  ...  \\\ndate                                                             ...   \n2012-09-04   91973000  0.000000  0.000000  0.000000         NaN  ...   \n2012-09-05   84093800 -0.015192 -0.008440 -0.006752    0.172859  ...   \n2012-09-06   97799100  0.007399 -0.001949  0.009348    0.277146  ...   \n2012-09-07   82416600  0.039001  0.011923  0.027078    0.598572  ...   \n2012-09-10  121999500 -0.045266 -0.005089 -0.040177    0.115707  ...   \n...               ...       ...       ...       ...         ...  ...   \n2017-08-28   25966000  2.298846  2.419112 -0.120266    1.440002  ...   \n2017-08-29   29516900  2.433127  2.421915  0.011212    1.119995  ...   \n2017-08-30   27269600  2.545705  2.446673  0.099032    0.770004  ...   \n2017-08-31   26785100  2.656748  2.488688  0.168060    0.630005  ...   \n2017-09-01   16552800  2.717459  2.534442  0.183017    0.419998  ...   \n\n               mdi_30       pdm  pdm_30_ema    pdm_30     pdi_30       dx_30  \\\ndate                                                                           \n2012-09-04   0.000000  0.000000    0.000000  0.000000   0.000000         NaN   \n2012-09-05   0.000000  0.172859    0.089310  0.089310   7.217408  100.000000   \n2012-09-06   0.000000  0.277146    0.156141  0.156141  12.927886  100.000000   \n2012-09-07   0.000000  0.598572    0.278047  0.278047  24.341409  100.000000   \n2012-09-10  28.754370  0.000000    0.214785  0.214785  13.899806   34.825579   \n...               ...       ...         ...       ...        ...         ...   \n2017-08-28  22.038301  1.440002    0.800990  0.800990  31.529870   17.718673   \n2017-08-29  20.460874  1.119995    0.821571  0.821571  32.095929   22.138056   \n2017-08-30  19.465205  0.770004    0.818244  0.818244  32.507699   25.094795   \n2017-08-31  18.540126  0.630005    0.806100  0.806100  32.606897   27.502619   \n2017-09-01  17.620098  0.419998    0.781190  0.781190  32.102339   29.126168   \n\n            close_30_sma        boll     boll_ub     boll_lb  \ndate                                                          \n2012-09-04     96.424286   96.424286         NaN         NaN  \n2012-09-05     96.085716   96.085716   97.043336   95.128097  \n2012-09-06     96.260478   96.260478   97.168782   95.352174  \n2012-09-07     96.496786   96.496786   97.698234   95.295339  \n2012-09-10     96.132857   96.132857   98.064566   94.201148  \n...                  ...         ...         ...         ...  \n2017-08-28    155.867335  158.361501  163.825357  152.897646  \n2017-08-29    156.295001  159.004501  163.238301  154.770701  \n2017-08-30    156.706001  159.315002  163.871614  154.758390  \n2017-08-31    157.161335  159.736501  164.392993  155.080009  \n2017-09-01    157.620668  160.119502  164.876044  155.362959  \n\n[1258 rows x 27 columns]",
      "text/html": "<div>\n<style scoped>\n    .dataframe tbody tr th:only-of-type {\n        vertical-align: middle;\n    }\n\n    .dataframe tbody tr th {\n        vertical-align: top;\n    }\n\n    .dataframe thead th {\n        text-align: right;\n    }\n</style>\n<table border=\"1\" class=\"dataframe\">\n  <thead>\n    <tr style=\"text-align: right;\">\n      <th></th>\n      <th>open</th>\n      <th>high</th>\n      <th>low</th>\n      <th>close</th>\n      <th>adj close</th>\n      <th>volume</th>\n      <th>macd</th>\n      <th>macds</th>\n      <th>macdh</th>\n      <th>high_delta</th>\n      <th>...</th>\n      <th>mdi_30</th>\n      <th>pdm</th>\n      <th>pdm_30_ema</th>\n      <th>pdm_30</th>\n      <th>pdi_30</th>\n      <th>dx_30</th>\n      <th>close_30_sma</th>\n      <th>boll</th>\n      <th>boll_ub</th>\n      <th>boll_lb</th>\n    </tr>\n    <tr>\n      <th>date</th>\n      <th></th>\n      <th></th>\n      <th></th>\n      <th></th>\n      <th></th>\n      <th></th>\n      <th></th>\n      <th></th>\n      <th></th>\n      <th></th>\n      <th></th>\n      <th></th>\n      <th></th>\n      <th></th>\n      <th></th>\n      <th></th>\n      <th></th>\n      <th></th>\n      <th></th>\n      <th></th>\n      <th></th>\n    </tr>\n  </thead>\n  <tbody>\n    <tr>\n      <th>2012-09-04</th>\n      <td>95.108574</td>\n      <td>96.448570</td>\n      <td>94.928574</td>\n      <td>96.424286</td>\n      <td>87.121140</td>\n      <td>91973000</td>\n      <td>0.000000</td>\n      <td>0.000000</td>\n      <td>0.000000</td>\n      <td>NaN</td>\n      <td>...</td>\n      <td>0.000000</td>\n      <td>0.000000</td>\n      <td>0.000000</td>\n      <td>0.000000</td>\n      <td>0.000000</td>\n      <td>NaN</td>\n      <td>96.424286</td>\n      <td>96.424286</td>\n      <td>NaN</td>\n      <td>NaN</td>\n    </tr>\n    <tr>\n      <th>2012-09-05</th>\n      <td>96.510002</td>\n      <td>96.621429</td>\n      <td>95.657143</td>\n      <td>95.747147</td>\n      <td>86.509338</td>\n      <td>84093800</td>\n      <td>-0.015192</td>\n      <td>-0.008440</td>\n      <td>-0.006752</td>\n      <td>0.172859</td>\n      <td>...</td>\n      <td>0.000000</td>\n      <td>0.172859</td>\n      <td>0.089310</td>\n      <td>0.089310</td>\n      <td>7.217408</td>\n      <td>100.000000</td>\n      <td>96.085716</td>\n      <td>96.085716</td>\n      <td>97.043336</td>\n      <td>95.128097</td>\n    </tr>\n    <tr>\n      <th>2012-09-06</th>\n      <td>96.167145</td>\n      <td>96.898575</td>\n      <td>95.828575</td>\n      <td>96.610001</td>\n      <td>87.288956</td>\n      <td>97799100</td>\n      <td>0.007399</td>\n      <td>-0.001949</td>\n      <td>0.009348</td>\n      <td>0.277146</td>\n      <td>...</td>\n      <td>0.000000</td>\n      <td>0.277146</td>\n      <td>0.156141</td>\n      <td>0.156141</td>\n      <td>12.927886</td>\n      <td>100.000000</td>\n      <td>96.260478</td>\n      <td>96.260478</td>\n      <td>97.168782</td>\n      <td>95.352174</td>\n    </tr>\n    <tr>\n      <th>2012-09-07</th>\n      <td>96.864288</td>\n      <td>97.497147</td>\n      <td>96.538574</td>\n      <td>97.205711</td>\n      <td>87.827171</td>\n      <td>82416600</td>\n      <td>0.039001</td>\n      <td>0.011923</td>\n      <td>0.027078</td>\n      <td>0.598572</td>\n      <td>...</td>\n      <td>0.000000</td>\n      <td>0.598572</td>\n      <td>0.278047</td>\n      <td>0.278047</td>\n      <td>24.341409</td>\n      <td>100.000000</td>\n      <td>96.496786</td>\n      <td>96.496786</td>\n      <td>97.698234</td>\n      <td>95.295339</td>\n    </tr>\n    <tr>\n      <th>2012-09-10</th>\n      <td>97.207146</td>\n      <td>97.612854</td>\n      <td>94.585716</td>\n      <td>94.677139</td>\n      <td>85.542564</td>\n      <td>121999500</td>\n      <td>-0.045266</td>\n      <td>-0.005089</td>\n      <td>-0.040177</td>\n      <td>0.115707</td>\n      <td>...</td>\n      <td>28.754370</td>\n      <td>0.000000</td>\n      <td>0.214785</td>\n      <td>0.214785</td>\n      <td>13.899806</td>\n      <td>34.825579</td>\n      <td>96.132857</td>\n      <td>96.132857</td>\n      <td>98.064566</td>\n      <td>94.201148</td>\n    </tr>\n    <tr>\n      <th>...</th>\n      <td>...</td>\n      <td>...</td>\n      <td>...</td>\n      <td>...</td>\n      <td>...</td>\n      <td>...</td>\n      <td>...</td>\n      <td>...</td>\n      <td>...</td>\n      <td>...</td>\n      <td>...</td>\n      <td>...</td>\n      <td>...</td>\n      <td>...</td>\n      <td>...</td>\n      <td>...</td>\n      <td>...</td>\n      <td>...</td>\n      <td>...</td>\n      <td>...</td>\n      <td>...</td>\n    </tr>\n    <tr>\n      <th>2017-08-28</th>\n      <td>160.139999</td>\n      <td>162.000000</td>\n      <td>159.929993</td>\n      <td>161.470001</td>\n      <td>161.470001</td>\n      <td>25966000</td>\n      <td>2.298846</td>\n      <td>2.419112</td>\n      <td>-0.120266</td>\n      <td>1.440002</td>\n      <td>...</td>\n      <td>22.038301</td>\n      <td>1.440002</td>\n      <td>0.800990</td>\n      <td>0.800990</td>\n      <td>31.529870</td>\n      <td>17.718673</td>\n      <td>155.867335</td>\n      <td>158.361501</td>\n      <td>163.825357</td>\n      <td>152.897646</td>\n    </tr>\n    <tr>\n      <th>2017-08-29</th>\n      <td>160.100006</td>\n      <td>163.119995</td>\n      <td>160.000000</td>\n      <td>162.910004</td>\n      <td>162.910004</td>\n      <td>29516900</td>\n      <td>2.433127</td>\n      <td>2.421915</td>\n      <td>0.011212</td>\n      <td>1.119995</td>\n      <td>...</td>\n      <td>20.460874</td>\n      <td>1.119995</td>\n      <td>0.821571</td>\n      <td>0.821571</td>\n      <td>32.095929</td>\n      <td>22.138056</td>\n      <td>156.295001</td>\n      <td>159.004501</td>\n      <td>163.238301</td>\n      <td>154.770701</td>\n    </tr>\n    <tr>\n      <th>2017-08-30</th>\n      <td>163.800003</td>\n      <td>163.889999</td>\n      <td>162.610001</td>\n      <td>163.350006</td>\n      <td>163.350006</td>\n      <td>27269600</td>\n      <td>2.545705</td>\n      <td>2.446673</td>\n      <td>0.099032</td>\n      <td>0.770004</td>\n      <td>...</td>\n      <td>19.465205</td>\n      <td>0.770004</td>\n      <td>0.818244</td>\n      <td>0.818244</td>\n      <td>32.507699</td>\n      <td>25.094795</td>\n      <td>156.706001</td>\n      <td>159.315002</td>\n      <td>163.871614</td>\n      <td>154.758390</td>\n    </tr>\n    <tr>\n      <th>2017-08-31</th>\n      <td>163.639999</td>\n      <td>164.520004</td>\n      <td>163.479996</td>\n      <td>164.000000</td>\n      <td>164.000000</td>\n      <td>26785100</td>\n      <td>2.656748</td>\n      <td>2.488688</td>\n      <td>0.168060</td>\n      <td>0.630005</td>\n      <td>...</td>\n      <td>18.540126</td>\n      <td>0.630005</td>\n      <td>0.806100</td>\n      <td>0.806100</td>\n      <td>32.606897</td>\n      <td>27.502619</td>\n      <td>157.161335</td>\n      <td>159.736501</td>\n      <td>164.392993</td>\n      <td>155.080009</td>\n    </tr>\n    <tr>\n      <th>2017-09-01</th>\n      <td>164.800003</td>\n      <td>164.940002</td>\n      <td>163.630005</td>\n      <td>164.050003</td>\n      <td>164.050003</td>\n      <td>16552800</td>\n      <td>2.717459</td>\n      <td>2.534442</td>\n      <td>0.183017</td>\n      <td>0.419998</td>\n      <td>...</td>\n      <td>17.620098</td>\n      <td>0.419998</td>\n      <td>0.781190</td>\n      <td>0.781190</td>\n      <td>32.102339</td>\n      <td>29.126168</td>\n      <td>157.620668</td>\n      <td>160.119502</td>\n      <td>164.876044</td>\n      <td>155.362959</td>\n    </tr>\n  </tbody>\n</table>\n<p>1258 rows × 27 columns</p>\n</div>"
     },
     "execution_count": 19,
     "metadata": {},
     "output_type": "execute_result"
    }
   ],
   "source": [
    "stock_df"
   ],
   "metadata": {
    "collapsed": false,
    "pycharm": {
     "name": "#%%\n"
    }
   }
  }
 ]
}